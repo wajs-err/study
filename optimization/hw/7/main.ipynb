{
 "cells": [
  {
   "cell_type": "markdown",
   "metadata": {},
   "source": [
    "## Task 1"
   ]
  },
  {
   "cell_type": "code",
   "execution_count": 20,
   "metadata": {},
   "outputs": [],
   "source": [
    "from pyomo.environ import *"
   ]
  },
  {
   "cell_type": "code",
   "execution_count": 21,
   "metadata": {},
   "outputs": [
    {
     "name": "stdout",
     "output_type": "stream",
     "text": [
      "# ==========================================================\n",
      "# = Solver Results                                         =\n",
      "# ==========================================================\n",
      "# ----------------------------------------------------------\n",
      "#   Problem Information\n",
      "# ----------------------------------------------------------\n",
      "Problem: \n",
      "- Name: unknown\n",
      "  Lower bound: 142800.0\n",
      "  Upper bound: 142800.0\n",
      "  Number of objectives: 1\n",
      "  Number of constraints: 7\n",
      "  Number of variables: 3\n",
      "  Number of nonzeros: 3\n",
      "  Sense: maximize\n",
      "# ----------------------------------------------------------\n",
      "#   Solver Information\n",
      "# ----------------------------------------------------------\n",
      "Solver: \n",
      "- Status: ok\n",
      "  User time: -1.0\n",
      "  System time: 0.0\n",
      "  Wallclock time: 0.0\n",
      "  Termination condition: optimal\n",
      "  Termination message: Model was solved to optimality (subject to tolerances), and an optimal solution is available.\n",
      "  Statistics: \n",
      "    Branch and bound: \n",
      "      Number of bounded subproblems: None\n",
      "      Number of created subproblems: None\n",
      "    Black box: \n",
      "      Number of iterations: 3\n",
      "  Error rc: 0\n",
      "  Time: 0.0102386474609375\n",
      "# ----------------------------------------------------------\n",
      "#   Solution Information\n",
      "# ----------------------------------------------------------\n",
      "Solution: \n",
      "- number of solutions: 0\n",
      "  number of solutions displayed: 0\n",
      "Solution is \n",
      "    -> 10000.0 headphones covers per week\n",
      "    -> 6400.0 phone covers per week\n",
      "    -> 4000.0 laptop covers per week\n"
     ]
    }
   ],
   "source": [
    "model = ConcreteModel()\n",
    "model.dual = model.dual = Suffix(direction=Suffix.IMPORT)\n",
    "model.y = Var([1, 2, 3], domain=NonNegativeReals)\n",
    "model.net_profit = Objective(expr = 5 * model.y[1] + 7 * model.y[2] + 12 * model.y[3], sense=maximize)\n",
    "model.storing_inequality = Constraint(expr = 30 * model.y[1] / 1000 + 50 * model.y[2] / 1000 + 220 * model.y[3] / 1000 <= 1500)\n",
    "model.week_inequality = Constraint(expr = model.y[1] / 5000 + model.y[2] / 4000 + model.y[3] / 2000 <= 6)\n",
    "model.marketing_estimations = ConstraintList()\n",
    "model.marketing_estimations.add(expr = model.y[1] <= 10000)\n",
    "model.marketing_estimations.add(expr = model.y[2] <= 14000)\n",
    "model.marketing_estimations.add(expr = model.y[3] <= 7000)\n",
    "model.commercial_agreements = ConstraintList()\n",
    "model.commercial_agreements.add(expr = model.y[1] >= 4500)\n",
    "model.commercial_agreements.add(expr = model.y[3] >= 4000)\n",
    "SolverFactory('cbc').solve(model).write()\n",
    "\n",
    "print(\n",
    "f\"\"\"Solution is \n",
    "    -> {model.y[1]()} headphones covers per week\n",
    "    -> {model.y[2]()} phone covers per week\n",
    "    -> {model.y[3]()} laptop covers per week\"\"\"\n",
    ")"
   ]
  },
  {
   "cell_type": "code",
   "execution_count": 22,
   "metadata": {},
   "outputs": [
    {
     "name": "stdout",
     "output_type": "stream",
     "text": [
      "Sensetive analysis\n",
      "dual : Direction=Suffix.IMPORT, Datatype=Suffix.FLOAT\n",
      "    Key                      : Value\n",
      "    commercial_agreements[1] :  -0.0\n",
      "    commercial_agreements[2] : -18.8\n",
      "    marketing_estimations[1] :   0.8\n",
      "    marketing_estimations[2] :  -0.0\n",
      "    marketing_estimations[3] :  -0.0\n",
      "          storing_inequality : 140.0\n",
      "             week_inequality :  -0.0\n"
     ]
    }
   ],
   "source": [
    "print('Sensetive analysis')\n",
    "model.dual.pprint()"
   ]
  },
  {
   "cell_type": "markdown",
   "metadata": {},
   "source": [
    "## Task 2"
   ]
  },
  {
   "cell_type": "code",
   "execution_count": 23,
   "metadata": {},
   "outputs": [
    {
     "name": "stdout",
     "output_type": "stream",
     "text": [
      "# ==========================================================\n",
      "# = Solver Results                                         =\n",
      "# ==========================================================\n",
      "# ----------------------------------------------------------\n",
      "#   Problem Information\n",
      "# ----------------------------------------------------------\n",
      "Problem: \n",
      "- Name: unknown\n",
      "  Lower bound: 9.0\n",
      "  Upper bound: 9.0\n",
      "  Number of objectives: 1\n",
      "  Number of constraints: 3\n",
      "  Number of variables: 3\n",
      "  Number of nonzeros: 3\n",
      "  Sense: maximize\n",
      "# ----------------------------------------------------------\n",
      "#   Solver Information\n",
      "# ----------------------------------------------------------\n",
      "Solver: \n",
      "- Status: ok\n",
      "  User time: -1.0\n",
      "  System time: 0.0\n",
      "  Wallclock time: 0.0\n",
      "  Termination condition: optimal\n",
      "  Termination message: Model was solved to optimality (subject to tolerances), and an optimal solution is available.\n",
      "  Statistics: \n",
      "    Branch and bound: \n",
      "      Number of bounded subproblems: None\n",
      "      Number of created subproblems: None\n",
      "    Black box: \n",
      "      Number of iterations: 2\n",
      "  Error rc: 0\n",
      "  Time: 0.007149696350097656\n",
      "# ----------------------------------------------------------\n",
      "#   Solution Information\n",
      "# ----------------------------------------------------------\n",
      "Solution: \n",
      "- number of solutions: 0\n",
      "  number of solutions displayed: 0\n",
      "Solution is \n",
      "    -> x_1 = 1.0\n",
      "    -> x_2 = 1.0\n",
      "    -> x_3 = 0.0\n"
     ]
    }
   ],
   "source": [
    "model = ConcreteModel()\n",
    "model.x = Var([1, 2, 3], domain=NonNegativeReals)\n",
    "model.obj = Objective(expr = 4 * model.x[1] + 5 * model.x[2] + 2 * model.x[3], sense=maximize)\n",
    "model.inequality_1 = Constraint(expr = 2 * model.x[1] - model.x[2] + 2 * model.x[3] <= 9)\n",
    "model.inequality_2 = Constraint(expr = 3 * model.x[1] + 5 * model.x[2] + 4 * model.x[3] <= 8)\n",
    "model.inequality_3 = Constraint(expr = 1 * model.x[1] + model.x[2] + 2 * model.x[3] <= 2)\n",
    "\n",
    "SolverFactory('cbc').solve(model).write()\n",
    "print(\n",
    "f\"\"\"Solution is \n",
    "    -> x_1 = {model.x[1]()}\n",
    "    -> x_2 = {model.x[2]()}\n",
    "    -> x_3 = {model.x[3]()}\"\"\"\n",
    ")"
   ]
  }
 ],
 "metadata": {
  "kernelspec": {
   "display_name": "Python 3",
   "language": "python",
   "name": "python3"
  },
  "language_info": {
   "codemirror_mode": {
    "name": "ipython",
    "version": 3
   },
   "file_extension": ".py",
   "mimetype": "text/x-python",
   "name": "python",
   "nbconvert_exporter": "python",
   "pygments_lexer": "ipython3",
   "version": "3.11.5"
  }
 },
 "nbformat": 4,
 "nbformat_minor": 2
}
